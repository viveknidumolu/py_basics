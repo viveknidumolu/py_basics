{
  "cells": [
    {
      "cell_type": "code",
      "execution_count": 4,
      "metadata": {
        "colab": {
          "base_uri": "https://localhost:8080/"
        },
        "id": "qOlOtLM7fu3R",
        "outputId": "9a9d55e6-268b-408f-ff78-23bcb11b713b"
      },
      "outputs": [
        {
          "output_type": "stream",
          "name": "stdout",
          "text": [
            "Requirement already satisfied: BeautifulSoup4 in /usr/local/lib/python3.11/dist-packages (4.13.3)\n",
            "Requirement already satisfied: soupsieve>1.2 in /usr/local/lib/python3.11/dist-packages (from BeautifulSoup4) (2.6)\n",
            "Requirement already satisfied: typing-extensions>=4.0.0 in /usr/local/lib/python3.11/dist-packages (from BeautifulSoup4) (4.12.2)\n"
          ]
        }
      ],
      "source": [
        "!pip install BeautifulSoup4"
      ]
    },
    {
      "cell_type": "code",
      "execution_count": 5,
      "metadata": {
        "colab": {
          "base_uri": "https://localhost:8080/"
        },
        "id": "sR1y6sVlfu3S",
        "outputId": "0371c1ea-c8d0-41e8-fc28-bc9fd9dffc2c"
      },
      "outputs": [
        {
          "output_type": "stream",
          "name": "stdout",
          "text": [
            "Requirement already satisfied: lxml in /usr/local/lib/python3.11/dist-packages (5.3.1)\n"
          ]
        }
      ],
      "source": [
        "!pip install lxml"
      ]
    },
    {
      "cell_type": "code",
      "execution_count": 6,
      "metadata": {
        "colab": {
          "base_uri": "https://localhost:8080/"
        },
        "id": "YWmZ9nTofu3T",
        "outputId": "df4a8e66-28a4-45db-eea4-44620323d210"
      },
      "outputs": [
        {
          "output_type": "stream",
          "name": "stdout",
          "text": [
            "Requirement already satisfied: html5lib in /usr/local/lib/python3.11/dist-packages (1.1)\n",
            "Requirement already satisfied: six>=1.9 in /usr/local/lib/python3.11/dist-packages (from html5lib) (1.17.0)\n",
            "Requirement already satisfied: webencodings in /usr/local/lib/python3.11/dist-packages (from html5lib) (0.5.1)\n"
          ]
        }
      ],
      "source": [
        "!pip install html5lib"
      ]
    },
    {
      "cell_type": "code",
      "execution_count": 7,
      "metadata": {
        "id": "mUSUtpXffu3U"
      },
      "outputs": [],
      "source": [
        "import requests\n",
        "import webbrowser\n",
        "\n",
        "import re\n",
        "\n",
        "from bs4 import BeautifulSoup\n",
        "\n",
        "from pprint import pprint"
      ]
    },
    {
      "cell_type": "code",
      "execution_count": 8,
      "metadata": {
        "id": "rmJOW95Afu3U"
      },
      "outputs": [],
      "source": [
        "very_simple_html = \"\"\"\n",
        "\n",
        "<html>\n",
        "    <head>\n",
        "        <title>The Dormouse's story</title>\n",
        "    </head>\n",
        "<body>\n",
        "<p class=\"title\">\n",
        "    <b>The Dormouse's story</b>\n",
        "</p>\n",
        "\n",
        "<p class=\"story\">\n",
        "Once upon a time there were three little sisters; and their names were:\n",
        "\n",
        "    <a href=\"http://example.com/elsie\" class=\"sister\" id=\"link1\">Elsie</a>,\n",
        "    <a href=\"http://example.com/lacie\" class=\"sister\" id=\"link2\">Lacie</a> and\n",
        "    <a href=\"http://example.com/tillie\" class=\"sister\" id=\"link3\">Tillie</a>;\n",
        "\n",
        "and they lived at the bottom of a well.\n",
        "</p>\n",
        "\n",
        "<p class=\"story\">The story continues</p>\n",
        "</body>\n",
        "</html>\n",
        "\"\"\""
      ]
    },
    {
      "cell_type": "code",
      "execution_count": 9,
      "metadata": {
        "colab": {
          "base_uri": "https://localhost:8080/"
        },
        "id": "Nz_emd-7fu3W",
        "outputId": "ac15b1df-506a-47de-d8a0-2a4845878f9d"
      },
      "outputs": [
        {
          "output_type": "stream",
          "name": "stdout",
          "text": [
            "('\\n'\n",
            " '\\n'\n",
            " '<html>\\n'\n",
            " '    <head>\\n'\n",
            " \"        <title>The Dormouse's story</title>\\n\"\n",
            " '    </head>\\n'\n",
            " '<body>\\n'\n",
            " '<p class=\"title\">\\n'\n",
            " \"    <b>The Dormouse's story</b>\\n\"\n",
            " '</p>\\n'\n",
            " '\\n'\n",
            " '<p class=\"story\">\\n'\n",
            " 'Once upon a time there were three little sisters; and their names were:\\n'\n",
            " '\\n'\n",
            " '    <a href=\"http://example.com/elsie\" class=\"sister\" id=\"link1\">Elsie</a>,\\n'\n",
            " '    <a href=\"http://example.com/lacie\" class=\"sister\" id=\"link2\">Lacie</a> '\n",
            " 'and\\n'\n",
            " '    <a href=\"http://example.com/tillie\" class=\"sister\" '\n",
            " 'id=\"link3\">Tillie</a>;\\n'\n",
            " '\\n'\n",
            " 'and they lived at the bottom of a well.\\n'\n",
            " '</p>\\n'\n",
            " '\\n'\n",
            " '<p class=\"story\">The story continues</p>\\n'\n",
            " '</body>\\n'\n",
            " '</html>\\n')\n"
          ]
        }
      ],
      "source": [
        "pprint(very_simple_html)"
      ]
    },
    {
      "cell_type": "code",
      "execution_count": 10,
      "metadata": {
        "colab": {
          "base_uri": "https://localhost:8080/"
        },
        "id": "UgeL18Nzfu3Y",
        "outputId": "0f80662c-0dfa-406e-b112-abc4aeb1f426"
      },
      "outputs": [
        {
          "output_type": "execute_result",
          "data": {
            "text/plain": [
              "<html>\n",
              "<head>\n",
              "<title>The Dormouse's story</title>\n",
              "</head>\n",
              "<body>\n",
              "<p class=\"title\">\n",
              "<b>The Dormouse's story</b>\n",
              "</p>\n",
              "<p class=\"story\">\n",
              "Once upon a time there were three little sisters; and their names were:\n",
              "\n",
              "    <a class=\"sister\" href=\"http://example.com/elsie\" id=\"link1\">Elsie</a>,\n",
              "    <a class=\"sister\" href=\"http://example.com/lacie\" id=\"link2\">Lacie</a> and\n",
              "    <a class=\"sister\" href=\"http://example.com/tillie\" id=\"link3\">Tillie</a>;\n",
              "\n",
              "and they lived at the bottom of a well.\n",
              "</p>\n",
              "<p class=\"story\">The story continues</p>\n",
              "</body>\n",
              "</html>"
            ]
          },
          "metadata": {},
          "execution_count": 10
        }
      ],
      "source": [
        "soup = BeautifulSoup(very_simple_html)\n",
        "soup"
      ]
    },
    {
      "cell_type": "code",
      "execution_count": 11,
      "metadata": {
        "scrolled": true,
        "colab": {
          "base_uri": "https://localhost:8080/"
        },
        "id": "npmVtz78fu3Y",
        "outputId": "8a3ca02b-ee0f-4dad-d565-c4a7f4550af8"
      },
      "outputs": [
        {
          "output_type": "stream",
          "name": "stdout",
          "text": [
            "<html>\n",
            " <head>\n",
            "  <title>\n",
            "   The Dormouse's story\n",
            "  </title>\n",
            " </head>\n",
            " <body>\n",
            "  <p class=\"title\">\n",
            "   <b>\n",
            "    The Dormouse's story\n",
            "   </b>\n",
            "  </p>\n",
            "  <p class=\"story\">\n",
            "   Once upon a time there were three little sisters; and their names were:\n",
            "   <a class=\"sister\" href=\"http://example.com/elsie\" id=\"link1\">\n",
            "    Elsie\n",
            "   </a>\n",
            "   ,\n",
            "   <a class=\"sister\" href=\"http://example.com/lacie\" id=\"link2\">\n",
            "    Lacie\n",
            "   </a>\n",
            "   and\n",
            "   <a class=\"sister\" href=\"http://example.com/tillie\" id=\"link3\">\n",
            "    Tillie\n",
            "   </a>\n",
            "   ;\n",
            "\n",
            "and they lived at the bottom of a well.\n",
            "  </p>\n",
            "  <p class=\"story\">\n",
            "   The story continues\n",
            "  </p>\n",
            " </body>\n",
            "</html>\n",
            "\n"
          ]
        }
      ],
      "source": [
        "print(soup.prettify())"
      ]
    },
    {
      "cell_type": "code",
      "execution_count": 12,
      "metadata": {
        "colab": {
          "base_uri": "https://localhost:8080/"
        },
        "id": "61Nti3jnfu3a",
        "outputId": "11b61591-8147-48cd-8e72-89cb026fb41e"
      },
      "outputs": [
        {
          "output_type": "execute_result",
          "data": {
            "text/plain": [
              "<html>\n",
              "<head>\n",
              "<title>The Dormouse's story</title>\n",
              "</head>\n",
              "<body>\n",
              "<p class=\"title\">\n",
              "<b>The Dormouse's story</b>\n",
              "</p>\n",
              "<p class=\"story\">\n",
              "Once upon a time there were three little sisters; and their names were:\n",
              "\n",
              "    <a class=\"sister\" href=\"http://example.com/elsie\" id=\"link1\">Elsie</a>,\n",
              "    <a class=\"sister\" href=\"http://example.com/lacie\" id=\"link2\">Lacie</a> and\n",
              "    <a class=\"sister\" href=\"http://example.com/tillie\" id=\"link3\">Tillie</a>;\n",
              "\n",
              "and they lived at the bottom of a well.\n",
              "</p>\n",
              "<p class=\"story\">The story continues</p>\n",
              "</body>\n",
              "</html>"
            ]
          },
          "metadata": {},
          "execution_count": 12
        }
      ],
      "source": [
        "soup.html"
      ]
    },
    {
      "cell_type": "code",
      "execution_count": 13,
      "metadata": {
        "colab": {
          "base_uri": "https://localhost:8080/"
        },
        "id": "RapUNLoMfu3a",
        "outputId": "8057c3dc-a11c-4b48-ab3f-e01e4c05de9b"
      },
      "outputs": [
        {
          "output_type": "execute_result",
          "data": {
            "text/plain": [
              "<head>\n",
              "<title>The Dormouse's story</title>\n",
              "</head>"
            ]
          },
          "metadata": {},
          "execution_count": 13
        }
      ],
      "source": [
        "soup.head"
      ]
    },
    {
      "cell_type": "code",
      "execution_count": 14,
      "metadata": {
        "colab": {
          "base_uri": "https://localhost:8080/"
        },
        "id": "wHh2qLySfu3b",
        "outputId": "a263c0dc-4f41-4228-8aaf-498045ff5fb0"
      },
      "outputs": [
        {
          "output_type": "execute_result",
          "data": {
            "text/plain": [
              "<title>The Dormouse's story</title>"
            ]
          },
          "metadata": {},
          "execution_count": 14
        }
      ],
      "source": [
        "soup.title"
      ]
    },
    {
      "cell_type": "code",
      "execution_count": 15,
      "metadata": {
        "scrolled": true,
        "colab": {
          "base_uri": "https://localhost:8080/",
          "height": 36
        },
        "id": "1kRbqHQLfu3b",
        "outputId": "468cac56-7286-4311-efeb-7256d73ec994"
      },
      "outputs": [
        {
          "output_type": "execute_result",
          "data": {
            "text/plain": [
              "\"The Dormouse's story\""
            ],
            "application/vnd.google.colaboratory.intrinsic+json": {
              "type": "string"
            }
          },
          "metadata": {},
          "execution_count": 15
        }
      ],
      "source": [
        "soup.title.text"
      ]
    },
    {
      "cell_type": "code",
      "execution_count": 16,
      "metadata": {
        "colab": {
          "base_uri": "https://localhost:8080/"
        },
        "id": "f0nukTtmfu3c",
        "outputId": "a26467ab-c7bd-4e35-ebad-43a10eb2160c"
      },
      "outputs": [
        {
          "output_type": "execute_result",
          "data": {
            "text/plain": [
              "str"
            ]
          },
          "metadata": {},
          "execution_count": 16
        }
      ],
      "source": [
        "type(soup.title.text)"
      ]
    },
    {
      "cell_type": "code",
      "execution_count": 17,
      "metadata": {
        "colab": {
          "base_uri": "https://localhost:8080/"
        },
        "id": "MkOY989Ufu3c",
        "outputId": "b48c3eec-f03a-4cb0-fc93-b75f3bd50da1"
      },
      "outputs": [
        {
          "output_type": "execute_result",
          "data": {
            "text/plain": [
              "<body>\n",
              "<p class=\"title\">\n",
              "<b>The Dormouse's story</b>\n",
              "</p>\n",
              "<p class=\"story\">\n",
              "Once upon a time there were three little sisters; and their names were:\n",
              "\n",
              "    <a class=\"sister\" href=\"http://example.com/elsie\" id=\"link1\">Elsie</a>,\n",
              "    <a class=\"sister\" href=\"http://example.com/lacie\" id=\"link2\">Lacie</a> and\n",
              "    <a class=\"sister\" href=\"http://example.com/tillie\" id=\"link3\">Tillie</a>;\n",
              "\n",
              "and they lived at the bottom of a well.\n",
              "</p>\n",
              "<p class=\"story\">The story continues</p>\n",
              "</body>"
            ]
          },
          "metadata": {},
          "execution_count": 17
        }
      ],
      "source": [
        "soup.body"
      ]
    },
    {
      "cell_type": "code",
      "execution_count": 18,
      "metadata": {
        "colab": {
          "base_uri": "https://localhost:8080/"
        },
        "id": "Uya1oLwdfu3c",
        "outputId": "601c987b-fd49-4dac-c12e-b1999ac70e54"
      },
      "outputs": [
        {
          "output_type": "execute_result",
          "data": {
            "text/plain": [
              "<html>\n",
              "<head>\n",
              "<title>The Dormouse's story</title>\n",
              "</head>\n",
              "<body>\n",
              "<p class=\"title\">\n",
              "<b>The Dormouse's story</b>\n",
              "</p>\n",
              "<p class=\"story\">\n",
              "Once upon a time there were three little sisters; and their names were:\n",
              "\n",
              "    <a class=\"sister\" href=\"http://example.com/elsie\" id=\"link1\">Elsie</a>,\n",
              "    <a class=\"sister\" href=\"http://example.com/lacie\" id=\"link2\">Lacie</a> and\n",
              "    <a class=\"sister\" href=\"http://example.com/tillie\" id=\"link3\">Tillie</a>;\n",
              "\n",
              "and they lived at the bottom of a well.\n",
              "</p>\n",
              "<p class=\"story\">The story continues</p>\n",
              "</body>\n",
              "</html>"
            ]
          },
          "metadata": {},
          "execution_count": 18
        }
      ],
      "source": [
        "soup"
      ]
    },
    {
      "cell_type": "code",
      "execution_count": 19,
      "metadata": {
        "colab": {
          "base_uri": "https://localhost:8080/"
        },
        "id": "fWfr-gB9fu3d",
        "outputId": "d122e8de-2150-4e22-80b9-d2f2c6ec7fcb"
      },
      "outputs": [
        {
          "output_type": "execute_result",
          "data": {
            "text/plain": [
              "<p class=\"title\">\n",
              "<b>The Dormouse's story</b>\n",
              "</p>"
            ]
          },
          "metadata": {},
          "execution_count": 19
        }
      ],
      "source": [
        "soup.body.p"
      ]
    },
    {
      "cell_type": "code",
      "execution_count": 20,
      "metadata": {
        "colab": {
          "base_uri": "https://localhost:8080/"
        },
        "id": "xG9pndh4fu3d",
        "outputId": "659c7e70-a313-4e5e-89ff-afed10a9227b"
      },
      "outputs": [
        {
          "output_type": "execute_result",
          "data": {
            "text/plain": [
              "<p class=\"title\">\n",
              "<b>The Dormouse's story</b>\n",
              "</p>"
            ]
          },
          "metadata": {},
          "execution_count": 20
        }
      ],
      "source": [
        "soup.p"
      ]
    },
    {
      "cell_type": "code",
      "execution_count": 21,
      "metadata": {
        "colab": {
          "base_uri": "https://localhost:8080/"
        },
        "id": "qhpwz4OMfu3d",
        "outputId": "17aba4c2-e39b-4574-c7da-8bf783afa82a"
      },
      "outputs": [
        {
          "output_type": "execute_result",
          "data": {
            "text/plain": [
              "<b>The Dormouse's story</b>"
            ]
          },
          "metadata": {},
          "execution_count": 21
        }
      ],
      "source": [
        "soup.b"
      ]
    },
    {
      "cell_type": "code",
      "execution_count": 22,
      "metadata": {
        "scrolled": true,
        "colab": {
          "base_uri": "https://localhost:8080/"
        },
        "id": "WJl-VaLSfu3d",
        "outputId": "e5e10c95-b45c-450d-8fb1-26062b7f76a6"
      },
      "outputs": [
        {
          "output_type": "execute_result",
          "data": {
            "text/plain": [
              "<a class=\"sister\" href=\"http://example.com/elsie\" id=\"link1\">Elsie</a>"
            ]
          },
          "metadata": {},
          "execution_count": 22
        }
      ],
      "source": [
        "soup.a"
      ]
    },
    {
      "cell_type": "code",
      "execution_count": 23,
      "metadata": {
        "scrolled": true,
        "colab": {
          "base_uri": "https://localhost:8080/"
        },
        "id": "51vmEf_4fu3d",
        "outputId": "ccf4544a-01b9-43a9-fae5-bb40d49ff449"
      },
      "outputs": [
        {
          "output_type": "stream",
          "name": "stdout",
          "text": [
            "<html>\n",
            " <head>\n",
            "  <title>\n",
            "   The Dormouse's story\n",
            "  </title>\n",
            " </head>\n",
            " <body>\n",
            "  <p class=\"title\">\n",
            "   <b>\n",
            "    The Dormouse's story\n",
            "   </b>\n",
            "  </p>\n",
            "  <p class=\"story\">\n",
            "   Once upon a time there were three little sisters; and their names were:\n",
            "   <a class=\"sister\" href=\"http://example.com/elsie\" id=\"link1\">\n",
            "    Elsie\n",
            "   </a>\n",
            "   ,\n",
            "   <a class=\"sister\" href=\"http://example.com/lacie\" id=\"link2\">\n",
            "    Lacie\n",
            "   </a>\n",
            "   and\n",
            "   <a class=\"sister\" href=\"http://example.com/tillie\" id=\"link3\">\n",
            "    Tillie\n",
            "   </a>\n",
            "   ;\n",
            "\n",
            "and they lived at the bottom of a well.\n",
            "  </p>\n",
            "  <p class=\"story\">\n",
            "   The story continues\n",
            "  </p>\n",
            " </body>\n",
            "</html>\n",
            "\n"
          ]
        }
      ],
      "source": [
        "print(soup.prettify())"
      ]
    },
    {
      "cell_type": "code",
      "execution_count": 24,
      "metadata": {
        "colab": {
          "base_uri": "https://localhost:8080/"
        },
        "id": "qF8KWc_6fu3e",
        "outputId": "03224cc2-6b20-4b68-a44e-3b1b6877a529"
      },
      "outputs": [
        {
          "output_type": "execute_result",
          "data": {
            "text/plain": [
              "<p class=\"story\">\n",
              "Once upon a time there were three little sisters; and their names were:\n",
              "\n",
              "    <a class=\"sister\" href=\"http://example.com/elsie\" id=\"link1\">Elsie</a>,\n",
              "    <a class=\"sister\" href=\"http://example.com/lacie\" id=\"link2\">Lacie</a> and\n",
              "    <a class=\"sister\" href=\"http://example.com/tillie\" id=\"link3\">Tillie</a>;\n",
              "\n",
              "and they lived at the bottom of a well.\n",
              "</p>"
            ]
          },
          "metadata": {},
          "execution_count": 24
        }
      ],
      "source": [
        "soup.a.parent"
      ]
    },
    {
      "cell_type": "code",
      "execution_count": 25,
      "metadata": {
        "colab": {
          "base_uri": "https://localhost:8080/"
        },
        "id": "x1R2377Yfu3e",
        "outputId": "433f75d9-87e4-4d07-cc42-48c0cb1cde9e"
      },
      "outputs": [
        {
          "output_type": "execute_result",
          "data": {
            "text/plain": [
              "<html>\n",
              "<head>\n",
              "<title>The Dormouse's story</title>\n",
              "</head>\n",
              "<body>\n",
              "<p class=\"title\">\n",
              "<b>The Dormouse's story</b>\n",
              "</p>\n",
              "<p class=\"story\">\n",
              "Once upon a time there were three little sisters; and their names were:\n",
              "\n",
              "    <a class=\"sister\" href=\"http://example.com/elsie\" id=\"link1\">Elsie</a>,\n",
              "    <a class=\"sister\" href=\"http://example.com/lacie\" id=\"link2\">Lacie</a> and\n",
              "    <a class=\"sister\" href=\"http://example.com/tillie\" id=\"link3\">Tillie</a>;\n",
              "\n",
              "and they lived at the bottom of a well.\n",
              "</p>\n",
              "<p class=\"story\">The story continues</p>\n",
              "</body>\n",
              "</html>"
            ]
          },
          "metadata": {},
          "execution_count": 25
        }
      ],
      "source": [
        "soup.a.parent.parent.parent"
      ]
    },
    {
      "cell_type": "code",
      "execution_count": 28,
      "metadata": {
        "colab": {
          "base_uri": "https://localhost:8080/"
        },
        "id": "3dTOdR-Kfu3f",
        "outputId": "f1a500b1-7233-4aee-e2f7-f681d011141c"
      },
      "outputs": [
        {
          "output_type": "stream",
          "name": "stdout",
          "text": [
            "<html>\n",
            " <head>\n",
            "  <title>\n",
            "   The Dormouse's story\n",
            "  </title>\n",
            " </head>\n",
            " <body>\n",
            "  <p class=\"title\">\n",
            "   <b>\n",
            "    The Dormouse's story\n",
            "   </b>\n",
            "  </p>\n",
            "  <p class=\"story\">\n",
            "   Once upon a time there were three little sisters; and their names were:\n",
            "   <a class=\"sister\" href=\"http://example.com/elsie\" id=\"link1\">\n",
            "    Elsie\n",
            "   </a>\n",
            "   ,\n",
            "   <a class=\"sister\" href=\"http://example.com/lacie\" id=\"link2\">\n",
            "    Lacie\n",
            "   </a>\n",
            "   and\n",
            "   <a class=\"sister\" href=\"http://example.com/tillie\" id=\"link3\">\n",
            "    Tillie\n",
            "   </a>\n",
            "   ;\n",
            "\n",
            "and they lived at the bottom of a well.\n",
            "  </p>\n",
            "  <p class=\"story\">\n",
            "   The story continues\n",
            "  </p>\n",
            " </body>\n",
            "</html>\n",
            "\n"
          ]
        }
      ],
      "source": [
        "print(soup.prettify())"
      ]
    },
    {
      "cell_type": "code",
      "execution_count": 29,
      "metadata": {
        "colab": {
          "base_uri": "https://localhost:8080/"
        },
        "id": "udhPTtEkfu3f",
        "outputId": "45aa8149-d2c9-440b-a00e-96a1d6200fbe"
      },
      "outputs": [
        {
          "output_type": "execute_result",
          "data": {
            "text/plain": [
              "<head>\n",
              "<title>The Dormouse's story</title>\n",
              "</head>"
            ]
          },
          "metadata": {},
          "execution_count": 29
        }
      ],
      "source": [
        "soup.head"
      ]
    },
    {
      "cell_type": "code",
      "execution_count": 30,
      "metadata": {
        "id": "9sdRAvFRfu3f"
      },
      "outputs": [],
      "source": [
        "soup.img"
      ]
    },
    {
      "cell_type": "code",
      "execution_count": 31,
      "metadata": {
        "id": "AY32UXeifu3f"
      },
      "outputs": [],
      "source": [
        "soup.div"
      ]
    },
    {
      "cell_type": "code",
      "execution_count": 32,
      "metadata": {
        "id": "p0gOPtIDfu3g"
      },
      "outputs": [],
      "source": [
        "soup.i"
      ]
    },
    {
      "cell_type": "code",
      "source": [],
      "metadata": {
        "id": "e-JUqVYRgQPF"
      },
      "execution_count": null,
      "outputs": []
    }
  ],
  "metadata": {
    "kernelspec": {
      "display_name": "Python 3 (ipykernel)",
      "language": "python",
      "name": "python3"
    },
    "language_info": {
      "codemirror_mode": {
        "name": "ipython",
        "version": 3
      },
      "file_extension": ".py",
      "mimetype": "text/x-python",
      "name": "python",
      "nbconvert_exporter": "python",
      "pygments_lexer": "ipython3",
      "version": "3.12.7"
    },
    "colab": {
      "provenance": []
    }
  },
  "nbformat": 4,
  "nbformat_minor": 0
}