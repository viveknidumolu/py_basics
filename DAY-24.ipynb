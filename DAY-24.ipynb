{
 "cells": [
  {
   "cell_type": "code",
   "execution_count": 1,
   "id": "2f20b359",
   "metadata": {},
   "outputs": [
    {
     "name": "stdout",
     "output_type": "stream",
     "text": [
      "10 Most Common Words:\n",
      "package: 7\n",
      "downloading: 4\n",
      "to: 4\n",
      "c: 4\n",
      "is: 3\n",
      "already: 3\n",
      "stopwords: 2\n",
      "punkt: 2\n",
      "wordnet: 2\n",
      "text: 2\n"
     ]
    },
    {
     "name": "stderr",
     "output_type": "stream",
     "text": [
      "[nltk_data] Downloading package punkt to\n",
      "[nltk_data]     C:\\Users\\navad\\AppData\\Roaming\\nltk_data...\n",
      "[nltk_data]   Package punkt is already up-to-date!\n"
     ]
    }
   ],
   "source": [
    "import nltk\n",
    "from nltk.tokenize import word_tokenize\n",
    "from nltk.probability import FreqDist\n",
    "\n",
    "# Ensure you have downloaded necessary NLTK resources\n",
    "nltk.download('punkt')\n",
    "\n",
    "def load_text_file(file_path):\n",
    "    \"\"\"Load a text file and return its content.\"\"\"\n",
    "    with open(file_path, 'r', encoding='utf-8') as file:\n",
    "        return file.read()\n",
    "\n",
    "def tokenize_text(text):\n",
    "    \"\"\"Tokenize the given text using NLTK.\"\"\"\n",
    "    return word_tokenize(text)\n",
    "\n",
    "def get_most_common_words(tokens, n=10):\n",
    "    \"\"\"Get the n most common words from the tokens.\"\"\"\n",
    "    freq_dist = FreqDist(tokens)\n",
    "    return freq_dist.most_common(n)\n",
    "\n",
    "if __name__ == \"__main__\":\n",
    "    # Path to the text file\n",
    "    file_path = \"Output for Sentiment Analysis.txt\"  # Replace with the path to your text file\n",
    "\n",
    "    try:\n",
    "        # Load and process the text\n",
    "        text = load_text_file(file_path)\n",
    "        tokens = tokenize_text(text)\n",
    "\n",
    "        # Filter out non-alphanumeric tokens (optional)\n",
    "        tokens = [token.lower() for token in tokens if token.isalpha()]\n",
    "\n",
    "        # Get and display the 10 most common words\n",
    "        common_words = get_most_common_words(tokens, n=10)\n",
    "        print(\"10 Most Common Words:\")\n",
    "        for word, count in common_words:\n",
    "            print(f\"{word}: {count}\")\n",
    "\n",
    "    except FileNotFoundError:\n",
    "        print(f\"Error: The file '{file_path}' was not found.\")\n",
    "    except Exception as e:\n",
    "        print(f\"An error occurred: {e}\")\n"
   ]
  },
  {
   "cell_type": "code",
   "execution_count": null,
   "id": "a141fdc9",
   "metadata": {},
   "outputs": [],
   "source": []
  }
 ],
 "metadata": {
  "kernelspec": {
   "display_name": "Python 3 (ipykernel)",
   "language": "python",
   "name": "python3"
  },
  "language_info": {
   "codemirror_mode": {
    "name": "ipython",
    "version": 3
   },
   "file_extension": ".py",
   "mimetype": "text/x-python",
   "name": "python",
   "nbconvert_exporter": "python",
   "pygments_lexer": "ipython3",
   "version": "3.11.4"
  }
 },
 "nbformat": 4,
 "nbformat_minor": 5
}
