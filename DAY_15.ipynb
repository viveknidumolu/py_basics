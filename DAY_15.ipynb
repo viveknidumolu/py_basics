{
  "nbformat": 4,
  "nbformat_minor": 0,
  "metadata": {
    "colab": {
      "provenance": []
    },
    "kernelspec": {
      "name": "python3",
      "display_name": "Python 3"
    },
    "language_info": {
      "name": "python"
    }
  },
  "cells": [
    {
      "cell_type": "markdown",
      "source": [
        "# Write a Python function using regular expressions to extract all email addresses from a given string. Test it with the input"
      ],
      "metadata": {
        "id": "guyAbgiEWOJB"
      }
    },
    {
      "cell_type": "code",
      "execution_count": 3,
      "metadata": {
        "colab": {
          "base_uri": "https://localhost:8080/"
        },
        "id": "nmQx3wWxWIxO",
        "outputId": "640db315-1a9d-4962-b777-d5896f697003"
      },
      "outputs": [
        {
          "output_type": "stream",
          "name": "stdout",
          "text": [
            "Extracted emails: ['test.email@example.com', 'example+123@domain.co.uk']\n"
          ]
        }
      ],
      "source": [
        "import re\n",
        "\n",
        "def extract_emails(input_string):\n",
        "    email_pattern = r'[a-zA-Z0-9._%+-]+@[a-zA-Z0-9.-]+\\.[a-zA-Z]{2,}'\n",
        "    return re.findall(email_pattern, input_string)\n",
        "\n",
        "# Test the function\n",
        "if __name__ == \"__main__\":\n",
        "    test_input = \"Here are some emails: test.email@example.com, example+123@domain.co.uk, and invalid@domain, something@.com.\"\n",
        "    extracted_emails = extract_emails(test_input)\n",
        "    print(\"Extracted emails:\", extracted_emails)\n"
      ]
    },
    {
      "cell_type": "code",
      "source": [],
      "metadata": {
        "id": "LosFjNKLWrIW"
      },
      "execution_count": null,
      "outputs": []
    }
  ]
}