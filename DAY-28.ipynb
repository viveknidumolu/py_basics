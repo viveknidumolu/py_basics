{
 "cells": [
  {
   "cell_type": "code",
   "execution_count": 3,
   "id": "ec35ff27",
   "metadata": {},
   "outputs": [
    {
     "name": "stdout",
     "output_type": "stream",
     "text": [
      "Named Entities and their Types:\n",
      "Barack Obama: PERSON\n",
      "August 4, 1961: DATE\n",
      "Honolulu: GPE\n",
      "Hawaii: GPE\n",
      "44th: ORDINAL\n",
      "the United States: GPE\n"
     ]
    }
   ],
   "source": [
    "import spacy\n",
    "\n",
    "def perform_ner(text):\n",
    "    \"\"\"Perform Named Entity Recognition (NER) on the given text using SpaCy.\"\"\"\n",
    "    # Load the SpaCy English language model\n",
    "    nlp = spacy.load(\"en_core_web_sm\")\n",
    "\n",
    "    # Process the text\n",
    "    doc = nlp(text)\n",
    "\n",
    "    # Extract and print named entities and their labels\n",
    "    print(\"Named Entities and their Types:\")\n",
    "    for entity in doc.ents:\n",
    "        print(f\"{entity.text}: {entity.label_}\")\n",
    "\n",
    "if __name__ == \"__main__\":\n",
    "    # Example text\n",
    "    text = \"Barack Obama was born on August 4, 1961, in Honolulu, Hawaii. He served as the 44th President of the United States.\"\n",
    "\n",
    "    # Perform NER on the text\n",
    "    perform_ner(text)\n"
   ]
  },
  {
   "cell_type": "code",
   "execution_count": null,
   "id": "4e763666",
   "metadata": {},
   "outputs": [],
   "source": []
  }
 ],
 "metadata": {
  "kernelspec": {
   "display_name": "Python 3 (ipykernel)",
   "language": "python",
   "name": "python3"
  },
  "language_info": {
   "codemirror_mode": {
    "name": "ipython",
    "version": 3
   },
   "file_extension": ".py",
   "mimetype": "text/x-python",
   "name": "python",
   "nbconvert_exporter": "python",
   "pygments_lexer": "ipython3",
   "version": "3.11.4"
  }
 },
 "nbformat": 4,
 "nbformat_minor": 5
}
