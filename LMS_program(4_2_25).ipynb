{
  "nbformat": 4,
  "nbformat_minor": 0,
  "metadata": {
    "colab": {
      "provenance": []
    },
    "kernelspec": {
      "name": "python3",
      "display_name": "Python 3"
    },
    "language_info": {
      "name": "python"
    }
  },
  "cells": [
    {
      "cell_type": "markdown",
      "source": [
        "# **SIMPLE CHATBOT**"
      ],
      "metadata": {
        "id": "GLkA7zJfIqPW"
      }
    },
    {
      "cell_type": "code",
      "execution_count": 4,
      "metadata": {
        "colab": {
          "base_uri": "https://localhost:8080/"
        },
        "id": "uY2RASJ2HRbE",
        "outputId": "018e8fea-5022-4d67-a829-e7101b274bf0"
      },
      "outputs": [
        {
          "name": "stdout",
          "output_type": "stream",
          "text": [
            "Test Sentence\n"
          ]
        }
      ],
      "source": [
        "sentence = input()"
      ]
    },
    {
      "cell_type": "code",
      "source": [
        "sentence"
      ],
      "metadata": {
        "colab": {
          "base_uri": "https://localhost:8080/",
          "height": 35
        },
        "id": "SnCGcboKLbBp",
        "outputId": "cb97b4e8-3d47-4908-9d6b-0b26805dba89"
      },
      "execution_count": 8,
      "outputs": [
        {
          "output_type": "execute_result",
          "data": {
            "text/plain": [
              "'Test Sentence'"
            ],
            "application/vnd.google.colaboratory.intrinsic+json": {
              "type": "string"
            }
          },
          "metadata": {},
          "execution_count": 8
        }
      ]
    },
    {
      "cell_type": "code",
      "source": [
        "exit_words = ['esc', 'quit', 'stop', 'exit', 'bye', 'done', 'thanks']"
      ],
      "metadata": {
        "id": "lBVSlRBtIkju"
      },
      "execution_count": 2,
      "outputs": []
    },
    {
      "cell_type": "code",
      "source": [
        "def lowercase(sent):\n",
        "    return sent.lower()"
      ],
      "metadata": {
        "id": "NfPFMWSyI3tI"
      },
      "execution_count": 3,
      "outputs": []
    },
    {
      "cell_type": "code",
      "source": [
        "x = lowercase(sentence)"
      ],
      "metadata": {
        "id": "lccCwM8vJYNp"
      },
      "execution_count": 6,
      "outputs": []
    },
    {
      "cell_type": "code",
      "source": [
        "x"
      ],
      "metadata": {
        "colab": {
          "base_uri": "https://localhost:8080/",
          "height": 35
        },
        "id": "Wvq05mpjKQBM",
        "outputId": "e7ad27e2-145d-4dcf-9a12-80ca865c86d8"
      },
      "execution_count": 7,
      "outputs": [
        {
          "output_type": "execute_result",
          "data": {
            "text/plain": [
              "'test sentence'"
            ],
            "application/vnd.google.colaboratory.intrinsic+json": {
              "type": "string"
            }
          },
          "metadata": {},
          "execution_count": 7
        }
      ]
    },
    {
      "cell_type": "code",
      "source": [
        "def uppercase(sent):\n",
        "    return sent.upper()"
      ],
      "metadata": {
        "id": "Dd-DSiCALr56"
      },
      "execution_count": 9,
      "outputs": []
    },
    {
      "cell_type": "code",
      "source": [
        "uppercase('kjhgcxghjk')"
      ],
      "metadata": {
        "colab": {
          "base_uri": "https://localhost:8080/",
          "height": 35
        },
        "id": "BLragdRSLuwK",
        "outputId": "cb2625b8-1619-406e-8a26-d4a6eaf9645b"
      },
      "execution_count": 10,
      "outputs": [
        {
          "output_type": "execute_result",
          "data": {
            "text/plain": [
              "'KJHGCXGHJK'"
            ],
            "application/vnd.google.colaboratory.intrinsic+json": {
              "type": "string"
            }
          },
          "metadata": {},
          "execution_count": 10
        }
      ]
    },
    {
      "cell_type": "code",
      "source": [
        "def Title(sent):\n",
        "    return sent.title()"
      ],
      "metadata": {
        "id": "gXkJS1_iPC5j"
      },
      "execution_count": 22,
      "outputs": []
    },
    {
      "cell_type": "code",
      "source": [
        "Title('jhbvjfsfjk')"
      ],
      "metadata": {
        "colab": {
          "base_uri": "https://localhost:8080/",
          "height": 35
        },
        "id": "Qn6w9aegPKqJ",
        "outputId": "49f54dd5-f877-4573-dc7e-b67a2178b14c"
      },
      "execution_count": 23,
      "outputs": [
        {
          "output_type": "execute_result",
          "data": {
            "text/plain": [
              "'Jhbvjfsfjk'"
            ],
            "application/vnd.google.colaboratory.intrinsic+json": {
              "type": "string"
            }
          },
          "metadata": {},
          "execution_count": 23
        }
      ]
    },
    {
      "cell_type": "code",
      "source": [
        "def Add_underscore(sent):\n",
        "    return sent.replace(' ', '_')"
      ],
      "metadata": {
        "id": "FSJm6M_KPYa9"
      },
      "execution_count": 24,
      "outputs": []
    },
    {
      "cell_type": "code",
      "source": [
        "Add_underscore('sdf ghjk jhgf')"
      ],
      "metadata": {
        "colab": {
          "base_uri": "https://localhost:8080/",
          "height": 35
        },
        "id": "NX202WTZP2IR",
        "outputId": "742067cb-dd50-4c02-e523-7418ea9e41ff"
      },
      "execution_count": 25,
      "outputs": [
        {
          "output_type": "execute_result",
          "data": {
            "text/plain": [
              "'sdf_ghjk_jhgf'"
            ],
            "application/vnd.google.colaboratory.intrinsic+json": {
              "type": "string"
            }
          },
          "metadata": {},
          "execution_count": 25
        }
      ]
    },
    {
      "cell_type": "code",
      "source": [
        "x = input(\"Enter the sentence you want to process: \")\n",
        "while x not in exit_words:\n",
        "    choice = input(\"either 1 or 2 or 3 or 4: \")\n",
        "    if choice == '1':\n",
        "        print(lowercase(x))\n",
        "    elif choice == '2':\n",
        "        print(uppercase(x))\n",
        "    elif choice == '3':\n",
        "        print(Title(x))\n",
        "    elif choice == '4':\n",
        "        print(Add_underscore(x))\n",
        "    else:\n",
        "        print('Invalid choice')\n",
        "    x = input(\"Another sentence or exit word: \")"
      ],
      "metadata": {
        "colab": {
          "base_uri": "https://localhost:8080/"
        },
        "id": "YuOCIRAjLzEC",
        "outputId": "6fc1d6ad-3c0c-48c4-a1f7-e5f39beddfba"
      },
      "execution_count": 29,
      "outputs": [
        {
          "name": "stdout",
          "output_type": "stream",
          "text": [
            "Enter the sentence you want to process: hello IAM ViveK\n",
            "either 1 or 2 or 3 or 4: 1\n",
            "hello iam vivek\n",
            "Another sentence or exit word: hello IAM ViveK\n",
            "either 1 or 2 or 3 or 4: 2\n",
            "HELLO IAM VIVEK\n",
            "Another sentence or exit word: hello IAM ViveK\n",
            "either 1 or 2 or 3 or 4: 3\n",
            "Hello Iam Vivek\n",
            "Another sentence or exit word: hello IAM ViveK\n",
            "either 1 or 2 or 3 or 4: 4\n",
            "hello_IAM_ViveK\n",
            "Another sentence or exit word: exit\n"
          ]
        }
      ]
    },
    {
      "cell_type": "code",
      "source": [],
      "metadata": {
        "id": "3Hmn8ScyMuYk"
      },
      "execution_count": null,
      "outputs": []
    }
  ]
}