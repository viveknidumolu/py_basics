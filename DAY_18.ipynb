{
  "nbformat": 4,
  "nbformat_minor": 0,
  "metadata": {
    "colab": {
      "provenance": []
    },
    "kernelspec": {
      "name": "python3",
      "display_name": "Python 3"
    },
    "language_info": {
      "name": "python"
    }
  },
  "cells": [
    {
      "cell_type": "markdown",
      "source": [
        "# Exercises on Web Scraping - Coding Assignment\n",
        "# Assignment:\n",
        "# Write a Python script to fetch and print the title of a webpage using the 'requests' and 'BeautifulSoup' libraries. Test it with the URL: 'https://example.com'."
      ],
      "metadata": {
        "id": "guyAbgiEWOJB"
      }
    },
    {
      "cell_type": "code",
      "execution_count": 4,
      "metadata": {
        "colab": {
          "base_uri": "https://localhost:8080/"
        },
        "id": "nmQx3wWxWIxO",
        "outputId": "38f2598d-5bcc-4da0-e8c4-d41cb10f1379"
      },
      "outputs": [
        {
          "output_type": "stream",
          "name": "stdout",
          "text": [
            "Webpage title: Example Domain\n"
          ]
        }
      ],
      "source": [
        "import requests\n",
        "from bs4 import BeautifulSoup\n",
        "\n",
        "def fetch_webpage_title(url):\n",
        "    try:\n",
        "        response = requests.get(url)\n",
        "        response.raise_for_status()  # Raise an exception for HTTP errors\n",
        "\n",
        "        soup = BeautifulSoup(response.text, 'html.parser')\n",
        "        title = soup.title.string.strip() if soup.title else \"No title found\"\n",
        "        return title\n",
        "\n",
        "    except requests.exceptions.RequestException as e:\n",
        "        return f\"Error fetching the webpage: {e}\"\n",
        "\n",
        "# Test the function\n",
        "if __name__ == \"__main__\":\n",
        "    test_url = 'https://example.com'\n",
        "    title = fetch_webpage_title(test_url)\n",
        "    print(\"Webpage title:\", title)\n",
        "\n"
      ]
    },
    {
      "cell_type": "code",
      "source": [],
      "metadata": {
        "id": "LosFjNKLWrIW"
      },
      "execution_count": null,
      "outputs": []
    }
  ]
}