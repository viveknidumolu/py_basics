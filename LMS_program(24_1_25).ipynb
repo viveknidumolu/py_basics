{
  "nbformat": 4,
  "nbformat_minor": 0,
  "metadata": {
    "colab": {
      "provenance": []
    },
    "kernelspec": {
      "name": "python3",
      "display_name": "Python 3"
    },
    "language_info": {
      "name": "python"
    }
  },
  "cells": [
    {
      "cell_type": "markdown",
      "source": [
        "# Working with spacy"
      ],
      "metadata": {
        "id": "jhvd1nrEAlSb"
      }
    },
    {
      "cell_type": "code",
      "execution_count": 1,
      "metadata": {
        "id": "5rOIEs4vAfBq"
      },
      "outputs": [],
      "source": [
        "import spacy\n",
        "nlp = spacy.load('en_core_web_sm')"
      ]
    },
    {
      "cell_type": "code",
      "source": [
        "s = 'This is a test sentence to check the spacy functionalty'"
      ],
      "metadata": {
        "id": "2RPELolIBsgN"
      },
      "execution_count": 2,
      "outputs": []
    },
    {
      "cell_type": "code",
      "source": [
        "type(s)"
      ],
      "metadata": {
        "colab": {
          "base_uri": "https://localhost:8080/"
        },
        "id": "OmL4focfC0Hg",
        "outputId": "b5d64f0f-75a8-4e34-9cbf-24ae5e8f14ad"
      },
      "execution_count": 3,
      "outputs": [
        {
          "output_type": "execute_result",
          "data": {
            "text/plain": [
              "str"
            ]
          },
          "metadata": {},
          "execution_count": 3
        }
      ]
    },
    {
      "cell_type": "code",
      "source": [
        "s = nlp('This is a test sentence')"
      ],
      "metadata": {
        "id": "FOEVn1DQC2XA"
      },
      "execution_count": 4,
      "outputs": []
    },
    {
      "cell_type": "code",
      "source": [
        "type(s)"
      ],
      "metadata": {
        "colab": {
          "base_uri": "https://localhost:8080/"
        },
        "id": "MAfM96c4DCI8",
        "outputId": "2596585c-e75e-4f0d-88cb-bd0a415f4ef3"
      },
      "execution_count": 5,
      "outputs": [
        {
          "output_type": "execute_result",
          "data": {
            "text/plain": [
              "spacy.tokens.doc.Doc"
            ]
          },
          "metadata": {},
          "execution_count": 5
        }
      ]
    },
    {
      "cell_type": "markdown",
      "source": [
        "# Bad approach"
      ],
      "metadata": {
        "id": "XzoWgWP2Di5m"
      }
    },
    {
      "cell_type": "code",
      "source": [
        "s = 'This is a U.S Country. Welcome here. I did my B.Tech from here'"
      ],
      "metadata": {
        "id": "Nlgh6UJHDG9H"
      },
      "execution_count": 6,
      "outputs": []
    },
    {
      "cell_type": "code",
      "source": [
        "s.split('.')"
      ],
      "metadata": {
        "colab": {
          "base_uri": "https://localhost:8080/"
        },
        "id": "ybUPtcnaDVuK",
        "outputId": "1f6d6119-4f53-4f05-ee64-f5c9edae9a33"
      },
      "execution_count": 7,
      "outputs": [
        {
          "output_type": "execute_result",
          "data": {
            "text/plain": [
              "['This is a U', 'S Country', ' Welcome here', ' I did my B', 'Tech from here']"
            ]
          },
          "metadata": {},
          "execution_count": 7
        }
      ]
    },
    {
      "cell_type": "markdown",
      "source": [
        "# Continuation"
      ],
      "metadata": {
        "id": "KPR6Tnn1Drj6"
      }
    },
    {
      "cell_type": "code",
      "source": [
        "s = 'This is a U.S Country. Welcome here. I did my B.Tech from here'"
      ],
      "metadata": {
        "id": "_QwzGLuADm6N"
      },
      "execution_count": 8,
      "outputs": []
    },
    {
      "cell_type": "code",
      "source": [
        "s = nlp('This is a U.S Country. Welcome here. I did my B.Tech from here')"
      ],
      "metadata": {
        "id": "6EcUqUSjEFcl"
      },
      "execution_count": 10,
      "outputs": []
    },
    {
      "cell_type": "code",
      "source": [
        "type(s)"
      ],
      "metadata": {
        "colab": {
          "base_uri": "https://localhost:8080/"
        },
        "id": "7zpUr5crEO4u",
        "outputId": "fc12bd0f-d9c6-49cd-fb89-867e0e82d981"
      },
      "execution_count": 11,
      "outputs": [
        {
          "output_type": "execute_result",
          "data": {
            "text/plain": [
              "spacy.tokens.doc.Doc"
            ]
          },
          "metadata": {},
          "execution_count": 11
        }
      ]
    },
    {
      "cell_type": "code",
      "source": [
        "for sentence in s.sents:\n",
        "    print(sentence)"
      ],
      "metadata": {
        "colab": {
          "base_uri": "https://localhost:8080/"
        },
        "id": "WKXgkb6TD6a8",
        "outputId": "bf8e51bf-05e2-464c-ae75-9d9c3ac238e1"
      },
      "execution_count": 12,
      "outputs": [
        {
          "output_type": "stream",
          "name": "stdout",
          "text": [
            "This is a U.S Country.\n",
            "Welcome here.\n",
            "I did my B.Tech from here\n"
          ]
        }
      ]
    },
    {
      "cell_type": "code",
      "source": [
        "for word in s:\n",
        "    print(f\"{word} - {word.pos_}\")"
      ],
      "metadata": {
        "colab": {
          "base_uri": "https://localhost:8080/"
        },
        "id": "hfkATO0fEBrT",
        "outputId": "9d000917-8159-4aae-fed6-c4ee5b4bcf8f"
      },
      "execution_count": 13,
      "outputs": [
        {
          "output_type": "stream",
          "name": "stdout",
          "text": [
            "This - PRON\n",
            "is - AUX\n",
            "a - DET\n",
            "U.S - PROPN\n",
            "Country - PROPN\n",
            ". - PUNCT\n",
            "Welcome - INTJ\n",
            "here - ADV\n",
            ". - PUNCT\n",
            "I - PRON\n",
            "did - VERB\n",
            "my - PRON\n",
            "B.Tech - PROPN\n",
            "from - ADP\n",
            "here - ADV\n"
          ]
        }
      ]
    },
    {
      "cell_type": "markdown",
      "source": [
        "# Lemmatization"
      ],
      "metadata": {
        "id": "8h7dcUeoFeVo"
      }
    },
    {
      "cell_type": "code",
      "source": [
        "s = nlp('The boy is running ehile talking on the phone while calling friends for party indexes')"
      ],
      "metadata": {
        "id": "N4LNoKhgFQ1q"
      },
      "execution_count": 16,
      "outputs": []
    },
    {
      "cell_type": "code",
      "source": [
        "for word in s:\n",
        "    print(f\"{word} - {word.lemma_}\")"
      ],
      "metadata": {
        "colab": {
          "base_uri": "https://localhost:8080/"
        },
        "id": "CsRsvl-wGW8j",
        "outputId": "7ed18fd9-ddcf-4459-ad2c-d43c89227e24"
      },
      "execution_count": 17,
      "outputs": [
        {
          "output_type": "stream",
          "name": "stdout",
          "text": [
            "The - the\n",
            "boy - boy\n",
            "is - be\n",
            "running - run\n",
            "ehile - ehile\n",
            "talking - talk\n",
            "on - on\n",
            "the - the\n",
            "phone - phone\n",
            "while - while\n",
            "calling - call\n",
            "friends - friend\n",
            "for - for\n",
            "party - party\n",
            "indexes - index\n"
          ]
        }
      ]
    },
    {
      "cell_type": "markdown",
      "source": [
        "# NER(Named Entity Recognition)"
      ],
      "metadata": {
        "id": "WtojEGVbG4ol"
      }
    },
    {
      "cell_type": "code",
      "source": [
        "text = nlp(\"When Sebastian Thrun in USA Chicago started working on self-driving cars at Google in 2007, \\ few people outside of the Apple company took him seriously.\")"
      ],
      "metadata": {
        "id": "kLTZHpK7GgbV"
      },
      "execution_count": 25,
      "outputs": []
    },
    {
      "cell_type": "code",
      "source": [
        "for word in text.ents:\n",
        "    print(f\"{word} - {word.label_}\")"
      ],
      "metadata": {
        "colab": {
          "base_uri": "https://localhost:8080/"
        },
        "id": "NAdeaQMNHrwA",
        "outputId": "47f5a7bd-e906-4995-8ef0-6257739e467a"
      },
      "execution_count": 26,
      "outputs": [
        {
          "output_type": "stream",
          "name": "stdout",
          "text": [
            "Sebastian Thrun - PERSON\n",
            "USA Chicago - LOC\n",
            "Google - ORG\n",
            "2007 - DATE\n",
            "\\ - PERSON\n",
            "Apple - ORG\n"
          ]
        }
      ]
    },
    {
      "cell_type": "code",
      "source": [
        "from spacy import displacy\n",
        "displacy.serve(text, style=\"ent\")"
      ],
      "metadata": {
        "colab": {
          "base_uri": "https://localhost:8080/",
          "height": 319
        },
        "id": "pA4dKMERID4x",
        "outputId": "f16bd99a-2d90-4fda-a238-eacf018d2071"
      },
      "execution_count": 27,
      "outputs": [
        {
          "output_type": "display_data",
          "data": {
            "text/plain": [
              "<IPython.core.display.HTML object>"
            ],
            "text/html": [
              "<span class=\"tex2jax_ignore\"><!DOCTYPE html>\n",
              "<html lang=\"en\">\n",
              "    <head>\n",
              "        <title>displaCy</title>\n",
              "    </head>\n",
              "\n",
              "    <body style=\"font-size: 16px; font-family: -apple-system, BlinkMacSystemFont, 'Segoe UI', Helvetica, Arial, sans-serif, 'Apple Color Emoji', 'Segoe UI Emoji', 'Segoe UI Symbol'; padding: 4rem 2rem; direction: ltr\">\n",
              "<figure style=\"margin-bottom: 6rem\">\n",
              "<div class=\"entities\" style=\"line-height: 2.5; direction: ltr\">When \n",
              "<mark class=\"entity\" style=\"background: #aa9cfc; padding: 0.45em 0.6em; margin: 0 0.25em; line-height: 1; border-radius: 0.35em;\">\n",
              "    Sebastian Thrun\n",
              "    <span style=\"font-size: 0.8em; font-weight: bold; line-height: 1; border-radius: 0.35em; vertical-align: middle; margin-left: 0.5rem\">PERSON</span>\n",
              "</mark>\n",
              " in \n",
              "<mark class=\"entity\" style=\"background: #ff9561; padding: 0.45em 0.6em; margin: 0 0.25em; line-height: 1; border-radius: 0.35em;\">\n",
              "    USA Chicago\n",
              "    <span style=\"font-size: 0.8em; font-weight: bold; line-height: 1; border-radius: 0.35em; vertical-align: middle; margin-left: 0.5rem\">LOC</span>\n",
              "</mark>\n",
              " started working on self-driving cars at \n",
              "<mark class=\"entity\" style=\"background: #7aecec; padding: 0.45em 0.6em; margin: 0 0.25em; line-height: 1; border-radius: 0.35em;\">\n",
              "    Google\n",
              "    <span style=\"font-size: 0.8em; font-weight: bold; line-height: 1; border-radius: 0.35em; vertical-align: middle; margin-left: 0.5rem\">ORG</span>\n",
              "</mark>\n",
              " in \n",
              "<mark class=\"entity\" style=\"background: #bfe1d9; padding: 0.45em 0.6em; margin: 0 0.25em; line-height: 1; border-radius: 0.35em;\">\n",
              "    2007\n",
              "    <span style=\"font-size: 0.8em; font-weight: bold; line-height: 1; border-radius: 0.35em; vertical-align: middle; margin-left: 0.5rem\">DATE</span>\n",
              "</mark>\n",
              ", \n",
              "<mark class=\"entity\" style=\"background: #aa9cfc; padding: 0.45em 0.6em; margin: 0 0.25em; line-height: 1; border-radius: 0.35em;\">\n",
              "    \\\n",
              "    <span style=\"font-size: 0.8em; font-weight: bold; line-height: 1; border-radius: 0.35em; vertical-align: middle; margin-left: 0.5rem\">PERSON</span>\n",
              "</mark>\n",
              " few people outside of the \n",
              "<mark class=\"entity\" style=\"background: #7aecec; padding: 0.45em 0.6em; margin: 0 0.25em; line-height: 1; border-radius: 0.35em;\">\n",
              "    Apple\n",
              "    <span style=\"font-size: 0.8em; font-weight: bold; line-height: 1; border-radius: 0.35em; vertical-align: middle; margin-left: 0.5rem\">ORG</span>\n",
              "</mark>\n",
              " company took him seriously.</div>\n",
              "</figure>\n",
              "</body>\n",
              "</html></span>"
            ]
          },
          "metadata": {}
        },
        {
          "output_type": "stream",
          "name": "stdout",
          "text": [
            "\n",
            "Using the 'ent' visualizer\n",
            "Serving on http://0.0.0.0:5000 ...\n",
            "\n",
            "Shutting down server on port 5000.\n"
          ]
        }
      ]
    },
    {
      "cell_type": "code",
      "source": [],
      "metadata": {
        "id": "k3_ESSkRIx7v"
      },
      "execution_count": null,
      "outputs": []
    }
  ]
}