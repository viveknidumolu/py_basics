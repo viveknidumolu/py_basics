{
  "nbformat": 4,
  "nbformat_minor": 0,
  "metadata": {
    "colab": {
      "provenance": []
    },
    "kernelspec": {
      "name": "python3",
      "display_name": "Python 3"
    },
    "language_info": {
      "name": "python"
    }
  },
  "cells": [
    {
      "cell_type": "code",
      "execution_count": 3,
      "metadata": {
        "id": "Cqd77qt4OvYa",
        "colab": {
          "base_uri": "https://localhost:8080/"
        },
        "outputId": "19f76658-5438-43a9-e521-5bfe2d8424f5"
      },
      "outputs": [
        {
          "output_type": "stream",
          "name": "stdout",
          "text": [
            "i am going college for learning nlp\n"
          ]
        }
      ],
      "source": [
        "print(\"i am going college for learning nlp\")"
      ]
    },
    {
      "cell_type": "markdown",
      "source": [
        "## new line(\\n)"
      ],
      "metadata": {
        "id": "qaQSEk9dQxae"
      }
    },
    {
      "cell_type": "code",
      "source": [
        "print(\"i am going college for \\nlearning nlp\")"
      ],
      "metadata": {
        "colab": {
          "base_uri": "https://localhost:8080/"
        },
        "id": "ifzN1shiQsOc",
        "outputId": "6f81f474-40c3-47ee-dd30-7f919a4dab2e"
      },
      "execution_count": 4,
      "outputs": [
        {
          "output_type": "stream",
          "name": "stdout",
          "text": [
            "i am going college for \n",
            "learning nlp\n"
          ]
        }
      ]
    },
    {
      "cell_type": "code",
      "source": [
        "print(\"i am going \\ncollege for \\nlearning nlp\")"
      ],
      "metadata": {
        "colab": {
          "base_uri": "https://localhost:8080/"
        },
        "id": "tuFunpdNQ78g",
        "outputId": "f3c1816f-eada-423a-d4fd-74678b5e9cef"
      },
      "execution_count": 5,
      "outputs": [
        {
          "output_type": "stream",
          "name": "stdout",
          "text": [
            "i am going \n",
            "college for \n",
            "learning nlp\n"
          ]
        }
      ]
    },
    {
      "cell_type": "markdown",
      "source": [
        "# space(\\t)"
      ],
      "metadata": {
        "id": "SV2Fg7HcRqQ-"
      }
    },
    {
      "cell_type": "code",
      "source": [
        "print(\"i am going \\ncollege for\\tlearning nlp\")"
      ],
      "metadata": {
        "colab": {
          "base_uri": "https://localhost:8080/"
        },
        "id": "ywTAxyZgRXyH",
        "outputId": "5c7b7ae9-9c62-4cfe-98bb-5eb89af8c05e"
      },
      "execution_count": 6,
      "outputs": [
        {
          "output_type": "stream",
          "name": "stdout",
          "text": [
            "i am going \n",
            "college for\tlearning nlp\n"
          ]
        }
      ]
    },
    {
      "cell_type": "markdown",
      "source": [
        "# Carriage return(\\r)"
      ],
      "metadata": {
        "id": "HB1NOuBHSCnu"
      }
    },
    {
      "cell_type": "code",
      "source": [
        "print(\"i am going college for\\rlearning nlp\")"
      ],
      "metadata": {
        "colab": {
          "base_uri": "https://localhost:8080/"
        },
        "id": "kHGOf_wrRnXt",
        "outputId": "33c5dcf4-c46a-478e-ebc7-0d8fd3bd8ba2"
      },
      "execution_count": 7,
      "outputs": [
        {
          "output_type": "stream",
          "name": "stdout",
          "text": [
            "i am going college for\rlearning nlp\n"
          ]
        }
      ]
    },
    {
      "cell_type": "markdown",
      "source": [
        "# Working with regex"
      ],
      "metadata": {
        "id": "F2TXytRnTSS9"
      }
    },
    {
      "cell_type": "code",
      "source": [
        "import re"
      ],
      "metadata": {
        "id": "uXBekW7nSP3Y"
      },
      "execution_count": 9,
      "outputs": []
    },
    {
      "cell_type": "code",
      "source": [
        "string = \"007 james bond wants to learn python\"\n",
        "pattern=r'\\d+'\n",
        "matching=re.match(pattern,string)\n",
        "matching.group()"
      ],
      "metadata": {
        "colab": {
          "base_uri": "https://localhost:8080/",
          "height": 35
        },
        "id": "AeXslVU1TM6T",
        "outputId": "ccfb3679-8743-45bc-920d-2862b74851c1"
      },
      "execution_count": 10,
      "outputs": [
        {
          "output_type": "execute_result",
          "data": {
            "text/plain": [
              "'007'"
            ],
            "application/vnd.google.colaboratory.intrinsic+json": {
              "type": "string"
            }
          },
          "metadata": {},
          "execution_count": 10
        }
      ]
    },
    {
      "cell_type": "markdown",
      "source": [
        "# re.search()"
      ],
      "metadata": {
        "id": "vM3vSHt6Ugcf"
      }
    },
    {
      "cell_type": "code",
      "source": [
        "import re"
      ],
      "metadata": {
        "id": "iH7NnBJ7UUPC"
      },
      "execution_count": 12,
      "outputs": []
    },
    {
      "cell_type": "code",
      "source": [
        "pattern=r'\\d+'\n",
        "string=\"james bond 007 wants 008 to learn python\"\n",
        "matching=re.search(pattern,string)\n",
        "matching.group()"
      ],
      "metadata": {
        "colab": {
          "base_uri": "https://localhost:8080/",
          "height": 35
        },
        "id": "kVwCxIW9Um-f",
        "outputId": "519d083b-367c-4071-8200-ab41675b9448"
      },
      "execution_count": 13,
      "outputs": [
        {
          "output_type": "execute_result",
          "data": {
            "text/plain": [
              "'007'"
            ],
            "application/vnd.google.colaboratory.intrinsic+json": {
              "type": "string"
            }
          },
          "metadata": {},
          "execution_count": 13
        }
      ]
    },
    {
      "cell_type": "markdown",
      "source": [
        "# re.findall()"
      ],
      "metadata": {
        "id": "Biq7Vas2VoPx"
      }
    },
    {
      "cell_type": "code",
      "source": [
        "pattern=r'\\d+'\n",
        "string=\"james bond 007 wants 008 to learn74 python\"\n",
        "matching=re.findall(pattern,string)\n",
        "matching"
      ],
      "metadata": {
        "colab": {
          "base_uri": "https://localhost:8080/"
        },
        "id": "Bdf8BEFOU1Sb",
        "outputId": "7cf961f2-b433-42b3-ae7f-0ed4863f1c87"
      },
      "execution_count": 18,
      "outputs": [
        {
          "output_type": "execute_result",
          "data": {
            "text/plain": [
              "['007', '008', '74']"
            ]
          },
          "metadata": {},
          "execution_count": 18
        }
      ]
    },
    {
      "cell_type": "markdown",
      "source": [
        "# re.sub()"
      ],
      "metadata": {
        "id": "xF7ZuShHWmeP"
      }
    },
    {
      "cell_type": "code",
      "source": [
        "pattern=r'\\d+'\n",
        "string=\"james bond 007 wants 008 to learn374 python\"\n",
        "matching=re.sub(pattern,\"*\",string)\n",
        "matching"
      ],
      "metadata": {
        "colab": {
          "base_uri": "https://localhost:8080/",
          "height": 35
        },
        "id": "ccbkwiEPVJjT",
        "outputId": "6b00db2d-6671-4010-bff9-f3019588c1fe"
      },
      "execution_count": 23,
      "outputs": [
        {
          "output_type": "execute_result",
          "data": {
            "text/plain": [
              "'james bond * wants * to learn* python'"
            ],
            "application/vnd.google.colaboratory.intrinsic+json": {
              "type": "string"
            }
          },
          "metadata": {},
          "execution_count": 23
        }
      ]
    },
    {
      "cell_type": "code",
      "source": [
        "pattern=r'\\d'\n",
        "string=\"james bond 007 wants 008 to learn374 python\"\n",
        "matching=re.sub(pattern,\"*\",string)\n",
        "matching"
      ],
      "metadata": {
        "colab": {
          "base_uri": "https://localhost:8080/",
          "height": 35
        },
        "id": "Bt-UjZp0WthS",
        "outputId": "066b75ee-ebb1-4921-b3c5-4243df80c62b"
      },
      "execution_count": 24,
      "outputs": [
        {
          "output_type": "execute_result",
          "data": {
            "text/plain": [
              "'james bond *** wants *** to learn*** python'"
            ],
            "application/vnd.google.colaboratory.intrinsic+json": {
              "type": "string"
            }
          },
          "metadata": {},
          "execution_count": 24
        }
      ]
    },
    {
      "cell_type": "markdown",
      "source": [
        "# Problem: NLP Text Cleaning and Extraction\n",
        "\n",
        "You are tasked with cleaning a text dataset to prepare it for NLP tasks. Your goal is to:\n",
        "\n",
        "Extract all email addresses from the text. Remove all numbers (to prevent numeric features from skewing the NLP analysis). Extract all hashtags (for sentiment analysis and trending topics). Normalize whitespace to ensure there's no extra spaces between words. Remove any HTML tags that may be included in the text (from web scraping)."
      ],
      "metadata": {
        "id": "ZxMnhjI1X4R8"
      }
    },
    {
      "cell_type": "code",
      "source": [
        "#Test case\n",
        "text = \"\"\"\n",
        "Hello world! Contact us at info@example.com or support123@company.org. Follow us on social media: #AI #MachineLearning.\n",
        "Visit <a href=\"http://example.com\"> our website </a> for more details. This is a test with number 1234.\n",
        "\"\"\""
      ],
      "metadata": {
        "id": "o2-bsVbdXY4I"
      },
      "execution_count": 26,
      "outputs": []
    },
    {
      "cell_type": "code",
      "source": [
        "emails = [\"info@example.com\",\"support123@company.org\"]"
      ],
      "metadata": {
        "id": "AnlbJLfvaUb6"
      },
      "execution_count": 28,
      "outputs": []
    },
    {
      "cell_type": "code",
      "source": [
        "pattern=r'[a-zA-Z0-9._%+-]+@[a-zA-Z0-9.-]+\\.[a-zA-Z]{2,}'\n",
        "email=re.findall(pattern,text)\n",
        "emails"
      ],
      "metadata": {
        "colab": {
          "base_uri": "https://localhost:8080/"
        },
        "id": "U7y1d-p-YTKP",
        "outputId": "3006f2ff-ca85-4353-ca84-339a52f74329"
      },
      "execution_count": 29,
      "outputs": [
        {
          "output_type": "execute_result",
          "data": {
            "text/plain": [
              "['info@example.com', 'support123@company.org']"
            ]
          },
          "metadata": {},
          "execution_count": 29
        }
      ]
    },
    {
      "cell_type": "code",
      "source": [
        "hash_tags=re.findall(r'#\\w+',text)\n",
        "hash_tags"
      ],
      "metadata": {
        "colab": {
          "base_uri": "https://localhost:8080/"
        },
        "id": "2xycb6GhaO6K",
        "outputId": "2c686614-3465-4d60-8172-14708184638b"
      },
      "execution_count": 32,
      "outputs": [
        {
          "output_type": "execute_result",
          "data": {
            "text/plain": [
              "['#AI', '#MachineLearning']"
            ]
          },
          "metadata": {},
          "execution_count": 32
        }
      ]
    },
    {
      "cell_type": "code",
      "source": [],
      "metadata": {
        "id": "sq_rBp6vbIrV"
      },
      "execution_count": null,
      "outputs": []
    }
  ]
}