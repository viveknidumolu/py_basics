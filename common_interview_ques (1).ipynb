{
  "nbformat": 4,
  "nbformat_minor": 0,
  "metadata": {
    "colab": {
      "provenance": []
    },
    "kernelspec": {
      "name": "python3",
      "display_name": "Python 3"
    },
    "language_info": {
      "name": "python"
    }
  },
  "cells": [
    {
      "cell_type": "markdown",
      "source": [
        "# Checking a number is prime or not"
      ],
      "metadata": {
        "id": "AlnUIkS4U4I0"
      }
    },
    {
      "cell_type": "code",
      "execution_count": 6,
      "metadata": {
        "colab": {
          "base_uri": "https://localhost:8080/"
        },
        "id": "6nxtIZsvT9EB",
        "outputId": "0385feb3-a05d-46f8-cae5-f03a4fec2723"
      },
      "outputs": [
        {
          "output_type": "stream",
          "name": "stdout",
          "text": [
            "Enter a number: 567\n",
            "Not Prime\n",
            "Number of factors are:  3\n"
          ]
        }
      ],
      "source": [
        "#complexity O(n)\n",
        "a = int(input(\"Enter a number: \"))\n",
        "for i in range(2,a):\n",
        "    if a%i==0:\n",
        "        print(\"Not Prime\")\n",
        "        print(\"Number of factors are: \",i)\n",
        "        break\n",
        "else:\n",
        "    print(\"Prime\")"
      ]
    },
    {
      "cell_type": "markdown",
      "source": [
        "# Reducing Time Complexity of the above code"
      ],
      "metadata": {
        "id": "wQLnjbKabKUo"
      }
    },
    {
      "cell_type": "code",
      "source": [
        "#complexity O(sqrt(n))\n",
        "import math\n",
        "a = int(input(\"Enter a number: \"))\n",
        "b = math.floor(math.sqrt(a))\n",
        "for i in range(2,b+1):\n",
        "    if a%i==0:\n",
        "        print(\"Not Prime\")\n",
        "        print(\"Number of factors are: \",i)\n",
        "        break\n",
        "else:\n",
        "    print(\"Prime\")"
      ],
      "metadata": {
        "colab": {
          "base_uri": "https://localhost:8080/"
        },
        "id": "cU_x3vdwawBj",
        "outputId": "6b64d46a-57d0-48c4-8b6c-ab63b3b889ce"
      },
      "execution_count": 7,
      "outputs": [
        {
          "output_type": "stream",
          "name": "stdout",
          "text": [
            "Enter a number: 567\n",
            "Not Prime\n",
            "Number of factors are:  3\n"
          ]
        }
      ]
    },
    {
      "cell_type": "markdown",
      "source": [
        "# Frequency counter"
      ],
      "metadata": {
        "id": "_QvmQbw2VdtN"
      }
    },
    {
      "cell_type": "code",
      "source": [
        "#complexity O(n^2)\n",
        "a = [1,1,1,1,1,8,88,8,122,2,5888,6,25,9,9]\n",
        "a.count(1)"
      ],
      "metadata": {
        "colab": {
          "base_uri": "https://localhost:8080/"
        },
        "id": "GT83pAW-VKne",
        "outputId": "2917cd3c-b87a-4f77-ac46-8c2e32a5043e"
      },
      "execution_count": 14,
      "outputs": [
        {
          "output_type": "execute_result",
          "data": {
            "text/plain": [
              "5"
            ]
          },
          "metadata": {},
          "execution_count": 14
        }
      ]
    },
    {
      "cell_type": "code",
      "source": [
        "d = {}\n",
        "for i in a:\n",
        "    d[i] = a.count(i)\n",
        "print(d)"
      ],
      "metadata": {
        "colab": {
          "base_uri": "https://localhost:8080/"
        },
        "id": "YEkdXy9ebjsN",
        "outputId": "c0b5b3be-a217-4cb3-c21d-736794a108dc"
      },
      "execution_count": 17,
      "outputs": [
        {
          "output_type": "stream",
          "name": "stdout",
          "text": [
            "{1: 5, 8: 2, 88: 1, 122: 1, 2: 1, 5888: 1, 6: 1, 25: 1, 9: 2}\n"
          ]
        }
      ]
    },
    {
      "cell_type": "markdown",
      "source": [
        "# Reducing Time Complexity of the above code"
      ],
      "metadata": {
        "id": "l8-kOhu-dv-K"
      }
    },
    {
      "cell_type": "code",
      "source": [
        "#complexity O(n)\n",
        "seen = []"
      ],
      "metadata": {
        "id": "FuLBpU3_ezhw"
      },
      "execution_count": 18,
      "outputs": []
    },
    {
      "cell_type": "code",
      "source": [
        "for i in a:\n",
        "    if i not in seen:\n",
        "        d[i] = a.count(i)\n",
        "        seen.append(i)\n",
        "print(d)"
      ],
      "metadata": {
        "colab": {
          "base_uri": "https://localhost:8080/"
        },
        "id": "QYUo1o-Ncerk",
        "outputId": "cce72b77-00d7-4592-fbc9-565c7ca32253"
      },
      "execution_count": 22,
      "outputs": [
        {
          "output_type": "stream",
          "name": "stdout",
          "text": [
            "{1: 5, 8: 2, 88: 1, 122: 1, 2: 1, 5888: 1, 6: 1, 25: 1, 9: 2}\n"
          ]
        }
      ]
    },
    {
      "cell_type": "markdown",
      "source": [
        "# Write a code to print:\n",
        "Example : a = [1,\"one\",2,2,1,\"one\",3,4,5,1,\"one\"]\n",
        "(print the string \"one\" everytime after the number 1 appears)"
      ],
      "metadata": {
        "id": "7jV0PxdxfikB"
      }
    },
    {
      "cell_type": "code",
      "source": [
        "a = [1, 2, 2, 1, 3, 4, 5, 1]\n",
        "output= []\n",
        "\n",
        "for i in range(0,len(a)):\n",
        "    output.append(a[i])\n",
        "    if a[i]==1:\n",
        "        output.append(\"one\")\n",
        "print(output)"
      ],
      "metadata": {
        "colab": {
          "base_uri": "https://localhost:8080/"
        },
        "id": "aXe03s3ue6MR",
        "outputId": "0793523d-856c-4742-8f5a-c28084f84cea"
      },
      "execution_count": 30,
      "outputs": [
        {
          "output_type": "stream",
          "name": "stdout",
          "text": [
            "[1, 'one', 2, 2, 1, 'one', 3, 4, 5, 1, 'one']\n"
          ]
        }
      ]
    },
    {
      "cell_type": "code",
      "source": [],
      "metadata": {
        "id": "mOhk5MUrgyTz"
      },
      "execution_count": null,
      "outputs": []
    }
  ]
}