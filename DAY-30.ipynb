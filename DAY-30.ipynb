{
 "cells": [
  {
   "cell_type": "code",
   "execution_count": 5,
   "id": "bfd23a0a",
   "metadata": {},
   "outputs": [
    {
     "name": "stdout",
     "output_type": "stream",
     "text": [
      "Collecting textblob\n",
      "  Obtaining dependency information for textblob from https://files.pythonhosted.org/packages/1e/d6/40aa5aead775582ea0cf35870e5a3f16fab4b967f1ad2debe675f673f923/textblob-0.19.0-py3-none-any.whl.metadata\n",
      "  Downloading textblob-0.19.0-py3-none-any.whl.metadata (4.4 kB)\n",
      "Collecting nltk>=3.9 (from textblob)\n",
      "  Obtaining dependency information for nltk>=3.9 from https://files.pythonhosted.org/packages/4d/66/7d9e26593edda06e8cb531874633f7c2372279c3b0f46235539fe546df8b/nltk-3.9.1-py3-none-any.whl.metadata\n",
      "  Downloading nltk-3.9.1-py3-none-any.whl.metadata (2.9 kB)\n",
      "Requirement already satisfied: click in c:\\users\\navad\\anaconda3\\lib\\site-packages (from nltk>=3.9->textblob) (8.0.4)\n",
      "Requirement already satisfied: joblib in c:\\users\\navad\\anaconda3\\lib\\site-packages (from nltk>=3.9->textblob) (1.2.0)\n",
      "Requirement already satisfied: regex>=2021.8.3 in c:\\users\\navad\\anaconda3\\lib\\site-packages (from nltk>=3.9->textblob) (2022.7.9)\n",
      "Requirement already satisfied: tqdm in c:\\users\\navad\\anaconda3\\lib\\site-packages (from nltk>=3.9->textblob) (4.67.1)\n",
      "Requirement already satisfied: colorama in c:\\users\\navad\\anaconda3\\lib\\site-packages (from click->nltk>=3.9->textblob) (0.4.6)\n",
      "Downloading textblob-0.19.0-py3-none-any.whl (624 kB)\n",
      "   ---------------------------------------- 0.0/624.3 kB ? eta -:--:--\n",
      "    --------------------------------------- 10.2/624.3 kB ? eta -:--:--\n",
      "    --------------------------------------- 10.2/624.3 kB ? eta -:--:--\n",
      "   - ------------------------------------- 30.7/624.3 kB 163.8 kB/s eta 0:00:04\n",
      "   --- ----------------------------------- 61.4/624.3 kB 297.7 kB/s eta 0:00:02\n",
      "   ------- ------------------------------ 122.9/624.3 kB 514.3 kB/s eta 0:00:01\n",
      "   ----------------- ---------------------- 276.5/624.3 kB 1.0 MB/s eta 0:00:01\n",
      "   ------------------------ --------------- 389.1/624.3 kB 1.2 MB/s eta 0:00:01\n",
      "   ---------------------------- ----------- 450.6/624.3 kB 1.2 MB/s eta 0:00:01\n",
      "   ----------------------------------- ---- 553.0/624.3 kB 1.3 MB/s eta 0:00:01\n",
      "   ---------------------------------------  614.4/624.3 kB 1.3 MB/s eta 0:00:01\n",
      "   ---------------------------------------- 624.3/624.3 kB 1.4 MB/s eta 0:00:00\n",
      "Downloading nltk-3.9.1-py3-none-any.whl (1.5 MB)\n",
      "   ---------------------------------------- 0.0/1.5 MB ? eta -:--:--\n",
      "   -- ------------------------------------- 0.1/1.5 MB 3.3 MB/s eta 0:00:01\n",
      "   ----- ---------------------------------- 0.2/1.5 MB 2.8 MB/s eta 0:00:01\n",
      "   --------- ------------------------------ 0.4/1.5 MB 2.9 MB/s eta 0:00:01\n",
      "   ---------- ----------------------------- 0.4/1.5 MB 3.0 MB/s eta 0:00:01\n",
      "   ----------- ---------------------------- 0.4/1.5 MB 1.9 MB/s eta 0:00:01\n",
      "   -------------- ------------------------- 0.5/1.5 MB 2.0 MB/s eta 0:00:01\n",
      "   -------------- ------------------------- 0.5/1.5 MB 1.9 MB/s eta 0:00:01\n",
      "   -------------- ------------------------- 0.6/1.5 MB 1.6 MB/s eta 0:00:01\n",
      "   --------------- ------------------------ 0.6/1.5 MB 1.4 MB/s eta 0:00:01\n",
      "   ----------------- ---------------------- 0.7/1.5 MB 1.4 MB/s eta 0:00:01\n",
      "   ------------------- -------------------- 0.7/1.5 MB 1.5 MB/s eta 0:00:01\n",
      "   -------------------- ------------------- 0.8/1.5 MB 1.4 MB/s eta 0:00:01\n",
      "   ---------------------- ----------------- 0.8/1.5 MB 1.4 MB/s eta 0:00:01\n",
      "   ------------------------- -------------- 0.9/1.5 MB 1.5 MB/s eta 0:00:01\n",
      "   ---------------------------- ----------- 1.1/1.5 MB 1.5 MB/s eta 0:00:01\n",
      "   -------------------------------- ------- 1.2/1.5 MB 1.7 MB/s eta 0:00:01\n",
      "   ---------------------------------------  1.5/1.5 MB 1.9 MB/s eta 0:00:01\n",
      "   ---------------------------------------  1.5/1.5 MB 1.9 MB/s eta 0:00:01\n",
      "   ---------------------------------------- 1.5/1.5 MB 1.8 MB/s eta 0:00:00\n",
      "Installing collected packages: nltk, textblob\n",
      "  Attempting uninstall: nltk\n",
      "    Found existing installation: nltk 3.8.1\n",
      "    Uninstalling nltk-3.8.1:\n",
      "      Successfully uninstalled nltk-3.8.1\n",
      "Successfully installed nltk-3.9.1 textblob-0.19.0\n"
     ]
    }
   ],
   "source": [
    "! pip install textblob"
   ]
  },
  {
   "cell_type": "code",
   "execution_count": 6,
   "id": "5bc6a7e2",
   "metadata": {},
   "outputs": [
    {
     "name": "stdout",
     "output_type": "stream",
     "text": [
      "Text: I absolutely love this product! It has made my life so much easier.\n",
      "Sentiment: Positive (Polarity: 0.41)\n"
     ]
    }
   ],
   "source": [
    "from textblob import TextBlob\n",
    "\n",
    "def perform_sentiment_analysis(text):\n",
    "    \"\"\"Perform sentiment analysis on the given text using TextBlob.\"\"\"\n",
    "    # Create a TextBlob object\n",
    "    blob = TextBlob(text)\n",
    "\n",
    "    # Get the polarity score (-1 to 1)\n",
    "    polarity = blob.sentiment.polarity\n",
    "\n",
    "    # Determine the sentiment\n",
    "    if polarity > 0:\n",
    "        sentiment = \"Positive\"\n",
    "    elif polarity < 0:\n",
    "        sentiment = \"Negative\"\n",
    "    else:\n",
    "        sentiment = \"Neutral\"\n",
    "\n",
    "    # Display the result\n",
    "    print(f\"Text: {text}\")\n",
    "    print(f\"Sentiment: {sentiment} (Polarity: {polarity:.2f})\")\n",
    "\n",
    "if __name__ == \"__main__\":\n",
    "    # Example text\n",
    "    text = \"I absolutely love this product! It has made my life so much easier.\"\n",
    "\n",
    "    # Perform sentiment analysis\n",
    "    perform_sentiment_analysis(text)\n"
   ]
  },
  {
   "cell_type": "code",
   "execution_count": null,
   "id": "793747ef",
   "metadata": {},
   "outputs": [],
   "source": []
  }
 ],
 "metadata": {
  "kernelspec": {
   "display_name": "Python 3 (ipykernel)",
   "language": "python",
   "name": "python3"
  },
  "language_info": {
   "codemirror_mode": {
    "name": "ipython",
    "version": 3
   },
   "file_extension": ".py",
   "mimetype": "text/x-python",
   "name": "python",
   "nbconvert_exporter": "python",
   "pygments_lexer": "ipython3",
   "version": "3.11.4"
  }
 },
 "nbformat": 4,
 "nbformat_minor": 5
}
