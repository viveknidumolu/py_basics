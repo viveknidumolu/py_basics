{
 "cells": [
  {
   "cell_type": "code",
   "execution_count": 2,
   "id": "09ce02a0",
   "metadata": {},
   "outputs": [
    {
     "name": "stdout",
     "output_type": "stream",
     "text": [
      "Cosine Similarity: 0.2606\n"
     ]
    }
   ],
   "source": [
    "from sklearn.feature_extraction.text import TfidfVectorizer\n",
    "from sklearn.metrics.pairwise import cosine_similarity\n",
    "\n",
    "def calculate_cosine_similarity(text1, text2):\n",
    "    \"\"\"Calculate cosine similarity between two strings.\"\"\"\n",
    "    # Create a TfidfVectorizer instance\n",
    "    vectorizer = TfidfVectorizer()\n",
    "\n",
    "    # Transform the input texts into TF-IDF vectors\n",
    "    tfidf_matrix = vectorizer.fit_transform([text1, text2])\n",
    "\n",
    "    # Compute the cosine similarity between the two vectors\n",
    "    similarity = cosine_similarity(tfidf_matrix[0:1], tfidf_matrix[1:2])\n",
    "    return similarity[0][0]\n",
    "\n",
    "if __name__ == \"__main__\":\n",
    "    # Example input strings\n",
    "    string1 = \"I love programming in Python.\"\n",
    "    string2 = \"Python programming is fun and interesting.\"\n",
    "\n",
    "    # Calculate and display the cosine similarity\n",
    "    similarity_score = calculate_cosine_similarity(string1, string2)\n",
    "    print(f\"Cosine Similarity: {similarity_score:.4f}\")"
   ]
  },
  {
   "cell_type": "code",
   "execution_count": null,
   "id": "f74f3fb7",
   "metadata": {},
   "outputs": [],
   "source": []
  }
 ],
 "metadata": {
  "kernelspec": {
   "display_name": "Python 3 (ipykernel)",
   "language": "python",
   "name": "python3"
  },
  "language_info": {
   "codemirror_mode": {
    "name": "ipython",
    "version": 3
   },
   "file_extension": ".py",
   "mimetype": "text/x-python",
   "name": "python",
   "nbconvert_exporter": "python",
   "pygments_lexer": "ipython3",
   "version": "3.11.4"
  }
 },
 "nbformat": 4,
 "nbformat_minor": 5
}
